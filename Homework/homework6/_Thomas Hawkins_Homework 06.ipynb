{
 "cells": [
  {
   "cell_type": "markdown",
   "metadata": {},
   "source": [
    "Your name goes here Pleaese"
   ]
  },
  {
   "cell_type": "markdown",
   "metadata": {},
   "source": [
    "## Objective:\n",
    "The objective of this assignment is to practice using Functional Programing.\n",
    "\n",
    "## Instructions:\n",
    "\n",
    "Using everything we learned to day about Functional Programing, lambda and itters create one of each of the following:\n",
    "-  Basic Lambda Function\n",
    "    - Create a lambda function that takes one arguments and returns even or odd.\n",
    "- Advanced lambda Function\n",
    "    - Create a lambda function that takes a list and returns their sum \n",
    "- Sorting with Lambda\n",
    "- Filtering with Lambda - `filter()` \n",
    "- Mapping with Lambda - `map()`\n",
    "- Reducing with Lambda -  `reduce()` \n",
    "- Enumerate with or without Lambda - `enumerate()`\n",
    "- zip with or without lambda (may combine enumerate like in class) - `zip()`\n",
    "\n",
    "Submit the file as a .py \n",
    "\n",
    "\n"
   ]
  },
  {
   "cell_type": "code",
   "execution_count": 1,
   "metadata": {},
   "outputs": [
    {
     "name": "stdout",
     "output_type": "stream",
     "text": [
      "The number 4 is Even.\n",
      "\n",
      "Your list of numbers: [1, 2, 3, 4]\n",
      "\n",
      "Enter three tuples (x y) to be sorted by the second value:\n",
      "Sorted tuples by second value: [(1, 2), (5, 2), (7, 9)]\n",
      "\n",
      "Even numbers from your list: [2, 4]\n",
      "\n",
      "Squared numbers: [1, 4, 9, 16]\n",
      "\n",
      "Enumerated values: [(0, 1), (1, 2), (2, 3), (3, 4)]\n",
      "\n",
      "Zipped List: [('tub', 1), ('quit', 2), ('done', 3)]\n",
      "\n",
      "Sum of your numbers: 10\n",
      "\n"
     ]
    }
   ],
   "source": [
    "# Basic Lambda Function - Check even or odd\n",
    "even_or_odd = lambda x: \"Even\" if x % 2 == 0 else \"Odd\"\n",
    "\n",
    "# Advanced Lambda Function - Sum of a list\n",
    "sum_list = lambda lst: sum(lst)\n",
    "\n",
    "# Get input for even or odd check\n",
    "num = int(input(\"Enter a number to check even/odd: \"))\n",
    "print(f\"The number {num} is {even_or_odd(num)}.\\n\")\n",
    "\n",
    "# Get input for a list of numbers\n",
    "numbers = list(map(int, input(\"Enter numbers separated by space: \").split()))\n",
    "print(f\"Your list of numbers: {numbers}\\n\")\n",
    "\n",
    "# Sorting with Lambda (input: 3 tuples)\n",
    "print(\"Enter three tuples (x y) to be sorted by the second value:\")\n",
    "data = [tuple(map(int, input(f\"Tuple {i+1}: \").replace('(', '').replace(')', '').split())) for i in range(3)]\n",
    "sorted_data = sorted(data, key=lambda x: x[1])\n",
    "print(f\"Sorted tuples by second value: {sorted_data}\\n\")\n",
    "\n",
    "# Filtering with Lambda - Get even numbers\n",
    "filtered_numbers = list(filter(lambda x: x % 2 == 0, numbers))\n",
    "print(f\"Even numbers from your list: {filtered_numbers}\\n\")\n",
    "\n",
    "# Mapping with Lambda - Square numbers\n",
    "squared_numbers = list(map(lambda x: x**2, numbers))\n",
    "print(f\"Squared numbers: {squared_numbers}\\n\")\n",
    "\n",
    "# Enumerate\n",
    "enumerated_values = list(enumerate(numbers))\n",
    "print(f\"Enumerated values: {enumerated_values}\\n\")\n",
    "\n",
    "# Zip two lists\n",
    "list1 = input(\"Enter first list of words separated by space: \").split()\n",
    "list2 = list(map(int, input(\"Enter second list of numbers separated by space: \").split()))\n",
    "zipped_list = list(zip(list1, list2))\n",
    "print(f\"Zipped List: {zipped_list}\\n\")\n",
    "\n",
    "# Sum of numbers\n",
    "print(f\"Sum of your numbers: {sum_list(numbers)}\\n\")\n"
   ]
  },
  {
   "cell_type": "markdown",
   "metadata": {},
   "source": []
  }
 ],
 "metadata": {
  "kernelspec": {
   "display_name": "Python 3",
   "language": "python",
   "name": "python3"
  },
  "language_info": {
   "codemirror_mode": {
    "name": "ipython",
    "version": 3
   },
   "file_extension": ".py",
   "mimetype": "text/x-python",
   "name": "python",
   "nbconvert_exporter": "python",
   "pygments_lexer": "ipython3",
   "version": "3.13.1"
  }
 },
 "nbformat": 4,
 "nbformat_minor": 2
}
