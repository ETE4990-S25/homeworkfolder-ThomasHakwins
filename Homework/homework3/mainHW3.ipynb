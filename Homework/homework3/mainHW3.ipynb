{
 "cells": [
  {
   "cell_type": "code",
   "execution_count": 1,
   "metadata": {},
   "outputs": [
    {
     "ename": "ImportError",
     "evalue": "cannot import name 'Student' from 'data_classes' (c:\\Users\\2nd pc\\Downloads\\ETE4990\\homeworkfolder-ThomasHakwins\\Homework\\homework3\\data_classes.py)",
     "output_type": "error",
     "traceback": [
      "\u001b[1;31m---------------------------------------------------------------------------\u001b[0m",
      "\u001b[1;31mImportError\u001b[0m                               Traceback (most recent call last)",
      "Cell \u001b[1;32mIn[1], line 1\u001b[0m\n\u001b[1;32m----> 1\u001b[0m \u001b[38;5;28;01mfrom\u001b[39;00m\u001b[38;5;250m \u001b[39m\u001b[38;5;21;01mdata_classes\u001b[39;00m\u001b[38;5;250m \u001b[39m\u001b[38;5;28;01mimport\u001b[39;00m Student \u001b[38;5;28;01mas\u001b[39;00m dc\n\u001b[0;32m      2\u001b[0m \u001b[38;5;28;01mfrom\u001b[39;00m\u001b[38;5;250m \u001b[39m\u001b[38;5;21;01mdata_classes\u001b[39;00m\u001b[38;5;250m \u001b[39m\u001b[38;5;28;01mimport\u001b[39;00m Person \u001b[38;5;28;01mas\u001b[39;00m pp\n\u001b[0;32m      3\u001b[0m \u001b[38;5;28;01mfrom\u001b[39;00m\u001b[38;5;250m \u001b[39m\u001b[38;5;21;01mdata_classes\u001b[39;00m\u001b[38;5;250m \u001b[39m\u001b[38;5;28;01mimport\u001b[39;00m saver\n",
      "\u001b[1;31mImportError\u001b[0m: cannot import name 'Student' from 'data_classes' (c:\\Users\\2nd pc\\Downloads\\ETE4990\\homeworkfolder-ThomasHakwins\\Homework\\homework3\\data_classes.py)"
     ]
    }
   ],
   "source": [
    "from data_classes import Student as dc\n",
    "from data_classes import Person as pp\n",
    "from data_classes import saver\n",
    "\n",
    "\n",
    "\n",
    "bill = dc(\"bill\", \"doe\", 12,\"bill@cool.com\",\"adddr 123 \",1234)\n",
    "sam = pp(\"sam\", \"Doe\", 21, \"123@gmail.com\", \"1234 Main St\")\n",
    "\n",
    "combined_data = [\n",
    "        bill.__dict__,\n",
    "        sam.__dict__\n",
    "    ]\n",
    "\n",
    "saver(combined_data, \"data.json\")"
   ]
  }
 ],
 "metadata": {
  "kernelspec": {
   "display_name": "Python 3",
   "language": "python",
   "name": "python3"
  },
  "language_info": {
   "codemirror_mode": {
    "name": "ipython",
    "version": 3
   },
   "file_extension": ".py",
   "mimetype": "text/x-python",
   "name": "python",
   "nbconvert_exporter": "python",
   "pygments_lexer": "ipython3",
   "version": "3.13.1"
  }
 },
 "nbformat": 4,
 "nbformat_minor": 2
}
